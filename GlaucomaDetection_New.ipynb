{
  "nbformat": 4,
  "nbformat_minor": 0,
  "metadata": {
    "colab": {
      "name": "GlaucomaDetection_New.ipynb",
      "provenance": [],
      "collapsed_sections": [],
      "authorship_tag": "ABX9TyPToBgADyJ8WEyEop/NTrIM",
      "include_colab_link": true
    },
    "kernelspec": {
      "name": "python3",
      "display_name": "Python 3"
    },
    "language_info": {
      "name": "python"
    },
    "accelerator": "GPU"
  },
  "cells": [
    {
      "cell_type": "markdown",
      "metadata": {
        "id": "view-in-github",
        "colab_type": "text"
      },
      "source": [
        "<a href=\"https://colab.research.google.com/github/aaldayarova/glaucoma-detection/blob/main/GlaucomaDetection_New.ipynb\" target=\"_parent\"><img src=\"https://colab.research.google.com/assets/colab-badge.svg\" alt=\"Open In Colab\"/></a>"
      ]
    },
    {
      "cell_type": "code",
      "execution_count": null,
      "metadata": {
        "colab": {
          "base_uri": "https://localhost:8080/"
        },
        "id": "5Y_yIYrXgmKC",
        "outputId": "a30d39dc-4717-4767-b1c3-8e2c9b7f6902"
      },
      "outputs": [
        {
          "output_type": "stream",
          "name": "stdout",
          "text": [
            "Mounted at /content/drive\n"
          ]
        }
      ],
      "source": [
        "# MOUNTING GDRIVE\n",
        "\n",
        "from google.colab import drive\n",
        "drive.mount('/content/drive', force_remount=True) \n",
        "\n",
        "root_path = '/content/drive/My Drive/Neuro140Project'"
      ]
    },
    {
      "cell_type": "code",
      "source": [
        "# IMPORTING LIBRARIES\n",
        "\n",
        "import torch\n",
        "import torch.nn as nn\n",
        "import torch.optim as optim\n",
        "from torch.autograd import Variable\n",
        "import numpy as np\n",
        "from torchvision import models, transforms\n",
        "import matplotlib.pyplot as plt\n",
        "import time\n",
        "import copy\n",
        "import os\n",
        "import tensorflow as tf\n",
        "from tensorflow import keras\n",
        "\n",
        "from random import randint \n",
        "from pathlib import Path\n",
        "from typing import Any, Callable, cast, Dict, List, Optional, Tuple\n",
        "\n",
        "from PIL import ImageFile, Image\n",
        "from torch.utils.data import Dataset \n",
        "\n",
        "import pandas as pd\n",
        "import cv2\n",
        "\n",
        "from tensorflow.keras.layers import Input, Lambda, Dense, Flatten,Dropout\n",
        "from tensorflow.keras.models import Model\n",
        "from tensorflow.keras.applications.vgg19 import VGG19\n",
        "from tensorflow.keras.applications.vgg19 import preprocess_input\n",
        "from tensorflow.keras.applications.vgg16 import VGG16\n",
        "from tensorflow.keras.applications.vgg16 import preprocess_input\n",
        "from tensorflow.keras.preprocessing import image\n",
        "from tensorflow.keras.preprocessing.image import ImageDataGenerator\n",
        "from tensorflow.keras.models import Sequential"
      ],
      "metadata": {
        "id": "7owcFASShJNm"
      },
      "execution_count": null,
      "outputs": []
    },
    {
      "cell_type": "code",
      "source": [
        "# ESTABLISHING NECESSARY PATHS\n",
        "\n",
        "train_path = '/content/drive/My Drive/Neuro140Project/Fundus_Scanes_Sorted/Train'\n",
        "test_path = '/content/drive/My Drive/Neuro140Project/Fundus_Scanes_Sorted/Test'\n",
        "\n",
        "csv_path = '/content/drive/My Drive/Neuro140Project/glaucoma_new.csv'\n",
        "\n",
        "HEIGHT = 2048 \n",
        "WIDTH = 3072"
      ],
      "metadata": {
        "id": "d4lmJThd5tsL"
      },
      "execution_count": null,
      "outputs": []
    },
    {
      "cell_type": "code",
      "source": [
        "# CREATING TEST + TRAIN DATASET ARRAYS\n",
        "\n",
        "# Creating a train dataset array\n",
        "train = []\n",
        "\n",
        "for folder in os.listdir(train_path):\n",
        "    \n",
        "    # Touching the 'Glaucoma_Positive' and 'Glaucoma_Negative' folders\n",
        "    sub_path = train_path + \"/\" + folder\n",
        "\n",
        "    for image in os.listdir(sub_path):\n",
        "\n",
        "        # Touching every image within both folders\n",
        "        image_path = sub_path + \"/\" + image\n",
        "\n",
        "        image_array = cv2.imread(image_path)\n",
        "\n",
        "        image_array = cv2.resize(image_array,(224,224))\n",
        "\n",
        "        train.append(image_array)\n",
        "\n",
        "# Creating a test dataset array\n",
        "test = []\n",
        "\n",
        "for folder in os.listdir(test_path):\n",
        "    \n",
        "    sub_path = test_path + \"/\" + folder\n",
        "\n",
        "    for image in os.listdir(sub_path):\n",
        "\n",
        "        image_path = sub_path + \"/\" + image\n",
        "\n",
        "        image_array = cv2.imread(image_path)\n",
        "\n",
        "        image_array = cv2.resize(image_array,(224,224))\n",
        "\n",
        "        test.append(image_array)"
      ],
      "metadata": {
        "id": "vIAaFZKh6xkI"
      },
      "execution_count": null,
      "outputs": []
    },
    {
      "cell_type": "code",
      "source": [
        "# Checking images \n",
        "#plt.imshow(train[130]/255.0)\n",
        "plt.imshow(test[99])"
      ],
      "metadata": {
        "colab": {
          "base_uri": "https://localhost:8080/",
          "height": 286
        },
        "id": "RgOeABa8gXdc",
        "outputId": "ef4ea107-71e6-412d-a94e-d7d2c1909cc3"
      },
      "execution_count": null,
      "outputs": [
        {
          "output_type": "execute_result",
          "data": {
            "text/plain": [
              "<matplotlib.image.AxesImage at 0x7f5010ffd250>"
            ]
          },
          "metadata": {},
          "execution_count": 40
        },
        {
          "output_type": "display_data",
          "data": {
            "text/plain": [
              "<Figure size 432x288 with 1 Axes>"
            ],
            "image/png": "[encoded data removed]"
          },
          "metadata": {
            "needs_background": "light"
          }
        }
      ]
    },
    {
      "cell_type": "code",
      "source": [
        "# Wrapping arrays by numpy to allow to normalize later\n",
        "training_data = np.array(train)\n",
        "testing_data = np.array(test)"
      ],
      "metadata": {
        "id": "NPYIqcqs7sCS"
      },
      "execution_count": null,
      "outputs": []
    },
    {
      "cell_type": "code",
      "source": [
        "# Normalizing our arrays\n",
        "training_data = training_data/255.0\n",
        "testing_data = testing_data/255.0"
      ],
      "metadata": {
        "id": "Ylf8NWGg7waY"
      },
      "execution_count": null,
      "outputs": []
    },
    {
      "cell_type": "code",
      "source": [
        "# CREATING LABELS FOR DATA\n",
        "training_l = ImageDataGenerator(rescale = 1./255.0)\n",
        "testing_l = ImageDataGenerator(rescale = 1./255.0)    "
      ],
      "metadata": {
        "id": "4GTsB9eYC6Eq"
      },
      "execution_count": null,
      "outputs": []
    },
    {
      "cell_type": "code",
      "source": [
        "# Walking through the folders to generate the labels for each image\n",
        "train_labels = training_l.flow_from_directory(train_path,\n",
        "                                                 target_size = (224, 224),\n",
        "                                                 batch_size = 32,\n",
        "                                                 class_mode = 'sparse')\n",
        "test_labels = testing_l.flow_from_directory(test_path,\n",
        "                                            target_size = (224, 224),\n",
        "                                            batch_size = 32,\n",
        "                                            class_mode = 'sparse')\n",
        "\n",
        "# Interpreting the results:\n",
        "# 520 images are in the 'Train' folder\n",
        "    # They are divided into 2 classes, 'Glaucoma_Negative' and 'Glaucoma_Positive'\n",
        "# 130 images are in the 'Test' folder \n",
        "    # They are, too, divided into 2 classes, 'Glaucoma_Negative' and 'Glaucoma_Positive'"
      ],
      "metadata": {
        "colab": {
          "base_uri": "https://localhost:8080/"
        },
        "id": "ejvC_RKGGh0C",
        "outputId": "441ce716-9f5f-4215-f209-ea521db32c3b"
      },
      "execution_count": null,
      "outputs": [
        {
          "output_type": "stream",
          "name": "stdout",
          "text": [
            "Found 520 images belonging to 2 classes.\n",
            "Found 130 images belonging to 2 classes.\n"
          ]
        }
      ]
    },
    {
      "cell_type": "code",
      "source": [
        "# Creating clear variables to store the 'classes' or the 'labels' of those walks\n",
        "training_labels = train_labels.classes\n",
        "testing_labels = test_labels.classes\n",
        "\n",
        "# Interpreting classes for analysis later on:\n",
        "# There are two classes, 'Glaucoma_Negative' and 'Glaucoma_Positive', each stored under one index.\n",
        "    # 'Glaucoma_Negative' is stored under index 0; 'Glaucoma_Positive' is stored under index 1"
      ],
      "metadata": {
        "id": "dcyAA37SGsqB"
      },
      "execution_count": null,
      "outputs": []
    },
    {
      "cell_type": "markdown",
      "source": [
        "Below, all blocks of code pertain to training given models. Uncommented blocks of code represent the current model being trained and analyzed."
      ],
      "metadata": {
        "id": "gKpOHfL6bE9V"
      }
    },
    {
      "cell_type": "code",
      "source": [
        "# TRAINING MODEL #1 -- VGG19 \n",
        "\n",
        "model_vgg = VGG19(input_shape=[224, 224] + [3], weights='imagenet', include_top=False)"
      ],
      "metadata": {
        "id": "l-UzuJnFYYat",
        "colab": {
          "base_uri": "https://localhost:8080/"
        },
        "outputId": "c648425d-f326-4ffa-c54b-a0a9df5a7e90"
      },
      "execution_count": null,
      "outputs": [
        {
          "output_type": "stream",
          "name": "stdout",
          "text": [
            "Downloading data from https://storage.googleapis.com/tensorflow/keras-applications/vgg19/vgg19_weights_tf_dim_ordering_tf_kernels_notop.h5\n",
            "80142336/80134624 [==============================] - 1s 0us/step\n",
            "80150528/80134624 [==============================] - 1s 0us/step\n"
          ]
        }
      ]
    },
    {
      "cell_type": "code",
      "source": [
        "# Making sure we don't train the pre-trained layers\n",
        "for l in model_vgg.layers:\n",
        "    l.trainable = False"
      ],
      "metadata": {
        "id": "EyspQpPNY-Ei"
      },
      "execution_count": null,
      "outputs": []
    },
    {
      "cell_type": "code",
      "source": [
        "# Flattening the last layer of the CNN in order to accurately classify\n",
        "last_layer = Flatten()(model_vgg.output)"
      ],
      "metadata": {
        "id": "nYJTNNP1ZDs9"
      },
      "execution_count": null,
      "outputs": []
    },
    {
      "cell_type": "code",
      "source": [
        "# Customizing the last layer to have only 2 classes, '0' and '1'\n",
        "classification = Dense(2, activation='softmax')(last_layer)\n",
        "\n",
        "model_1 = Model(inputs = model_vgg.input, outputs = classification)"
      ],
      "metadata": {
        "id": "AIrYTts7ZToN"
      },
      "execution_count": null,
      "outputs": []
    },
    {
      "cell_type": "code",
      "source": [
        "# Compiling our first model\n",
        "opt = keras.optimizers.Adam(learning_rate = 0.01)\n",
        "model_1.compile(loss = 'sparse_categorical_crossentropy', optimizer = opt, metrics=['accuracy'])"
      ],
      "metadata": {
        "id": "wEpLb6vcZtUK"
      },
      "execution_count": null,
      "outputs": []
    },
    {
      "cell_type": "code",
      "source": [
        "# Running (training) our first model and measuring metrics\n",
        "history_1 = model_1.fit(training_data, training_labels, epochs = 5, batch_size = 32, shuffle = True)"
      ],
      "metadata": {
        "colab": {
          "base_uri": "https://localhost:8080/"
        },
        "id": "fvPQ8qgWaKrU",
        "outputId": "0bb2de24-15a1-416d-c907-4319f5b99040"
      },
      "execution_count": null,
      "outputs": [
        {
          "output_type": "stream",
          "name": "stdout",
          "text": [
            "Epoch 1/5\n",
            "17/17 [==============================] - 20s 390ms/step - loss: 12.5156 - accuracy: 0.6019\n",
            "Epoch 2/5\n",
            "17/17 [==============================] - 5s 310ms/step - loss: 2.8243 - accuracy: 0.6635\n",
            "Epoch 3/5\n",
            "17/17 [==============================] - 5s 310ms/step - loss: 3.0201 - accuracy: 0.6231\n",
            "Epoch 4/5\n",
            "17/17 [==============================] - 5s 311ms/step - loss: 3.1285 - accuracy: 0.6827\n",
            "Epoch 5/5\n",
            "17/17 [==============================] - 5s 310ms/step - loss: 2.9168 - accuracy: 0.6750\n"
          ]
        }
      ]
    },
    {
      "cell_type": "code",
      "source": [
        "# # SAVING MODEL #1 -- VGG19\n",
        "# torch.save(model_1, root_path + \"/first_model.pt\")"
      ],
      "metadata": {
        "colab": {
          "base_uri": "https://localhost:8080/"
        },
        "id": "if7JEL43hcpB",
        "outputId": "a3412925-94d9-4944-a4e1-8ee240f898e9"
      },
      "execution_count": null,
      "outputs": [
        {
          "output_type": "stream",
          "name": "stdout",
          "text": [
            "INFO:tensorflow:Assets written to: ram://c59f3a83-fde5-4bf5-a55f-7a31c77c9ddb/assets\n"
          ]
        }
      ]
    },
    {
      "cell_type": "code",
      "source": [
        "# # FIGURES FOR MODEL #1 -- VGG19\n",
        "\n",
        "# fig = plt.figure()\n",
        "\n",
        "# # add the accuracy data to the plot\n",
        "# accuracy = history_1.history['accuracy']\n",
        "# plt.plot(accuracy)\n",
        "\n",
        "# # arrange the axes and labels \n",
        "# plt.title(\"Model 1 Accuracy\")\n",
        "# plt.xlabel(\"Epochs\")\n",
        "# plt.ylabel(\"Accuracy\")\n",
        "# plt.xticks(np.arange(0, 5, 1.0))\n",
        "\n",
        "# plt.show()"
      ],
      "metadata": {
        "colab": {
          "base_uri": "https://localhost:8080/",
          "height": 295
        },
        "id": "QZg6MbAVNDdF",
        "outputId": "898aa90f-0312-4488-feeb-d896ed0865f1"
      },
      "execution_count": null,
      "outputs": [
        {
          "output_type": "display_data",
          "data": {
            "text/plain": [
              "<Figure size 432x288 with 1 Axes>"
            ],
            "image/png": "[encoded data removed]"
          },
          "metadata": {
            "needs_background": "light"
          }
        }
      ]
    },
    {
      "cell_type": "code",
      "source": [
        "# # SAVE THE MODEL #1 (VGG19) FIGURES\n",
        "# fig.savefig('first_model_accuracy.png')"
      ],
      "metadata": {
        "id": "ZuNWCvteOwAY"
      },
      "execution_count": null,
      "outputs": []
    },
    {
      "cell_type": "code",
      "source": [
        "# TESTING MODEL #1 (VGG19)\n",
        "\n",
        "model_1.evaluate(testing_data, testing_labels, batch_size = 32)"
      ],
      "metadata": {
        "colab": {
          "base_uri": "https://localhost:8080/"
        },
        "id": "dx1iTtIpOwFR",
        "outputId": "3ffbcd63-8792-48ec-c7b4-66e652b8aecb"
      },
      "execution_count": null,
      "outputs": [
        {
          "output_type": "stream",
          "name": "stdout",
          "text": [
            "5/5 [==============================] - 3s 521ms/step - loss: 1.7424 - accuracy: 0.5923\n"
          ]
        },
        {
          "output_type": "execute_result",
          "data": {
            "text/plain": [
              "[1.7423932552337646, 0.5923076868057251]"
            ]
          },
          "metadata": {},
          "execution_count": 33
        }
      ]
    },
    {
      "cell_type": "code",
      "source": [
        "# TRAINING MODEL #2 -- VGG16\n",
        "\n",
        "model_vgg2 = VGG16(input_shape=[224, 224] + [3], weights='imagenet', include_top=False)"
      ],
      "metadata": {
        "colab": {
          "base_uri": "https://localhost:8080/"
        },
        "id": "CmXSCDfuQbFB",
        "outputId": "ede3632e-fd92-4cd5-a83c-740b83a1f49e"
      },
      "execution_count": null,
      "outputs": [
        {
          "output_type": "stream",
          "name": "stdout",
          "text": [
            "Downloading data from https://storage.googleapis.com/tensorflow/keras-applications/vgg16/vgg16_weights_tf_dim_ordering_tf_kernels_notop.h5\n",
            "58892288/58889256 [==============================] - 1s 0us/step\n",
            "58900480/58889256 [==============================] - 1s 0us/step\n"
          ]
        }
      ]
    },
    {
      "cell_type": "code",
      "source": [
        "# Making sure we don't train the pre-trained layers\n",
        "for l in model_vgg2.layers:\n",
        "    l.trainable = False"
      ],
      "metadata": {
        "id": "0XdnxJldQ1AC"
      },
      "execution_count": null,
      "outputs": []
    },
    {
      "cell_type": "code",
      "source": [
        "# Flattening the last layer of the CNN in order to accurately classify\n",
        "last_layer2 = Flatten()(model_vgg2.output)"
      ],
      "metadata": {
        "id": "wVin8z-UQ8bo"
      },
      "execution_count": null,
      "outputs": []
    },
    {
      "cell_type": "code",
      "source": [
        "# Customizing the last layer to have only 2 classes, '0' and '1'\n",
        "classification2 = Dense(2, activation='softmax')(last_layer2)\n",
        "\n",
        "model_2 = Model(inputs = model_vgg2.input, outputs = classification2)"
      ],
      "metadata": {
        "id": "7yRrYipVRAOL"
      },
      "execution_count": null,
      "outputs": []
    },
    {
      "cell_type": "code",
      "source": [
        "# Compiling our second model\n",
        "opt = keras.optimizers.Adam(learning_rate = 0.01)\n",
        "model_2.compile(loss = 'sparse_categorical_crossentropy', optimizer = opt, metrics=['accuracy'])"
      ],
      "metadata": {
        "id": "Yp-A165CRN1H"
      },
      "execution_count": null,
      "outputs": []
    },
    {
      "cell_type": "code",
      "source": [
        "# Running (training) our second model and measuring metrics\n",
        "history_2 = model_2.fit(training_data, training_labels, epochs = 5, batch_size = 32, shuffle = True)"
      ],
      "metadata": {
        "colab": {
          "base_uri": "https://localhost:8080/"
        },
        "id": "jZX7PuXQRbEV",
        "outputId": "f7608af1-c839-4f38-fd9e-f1d3d190d1ba"
      },
      "execution_count": null,
      "outputs": [
        {
          "output_type": "stream",
          "name": "stdout",
          "text": [
            "Epoch 1/5\n",
            "17/17 [==============================] - 5s 269ms/step - loss: 9.6815 - accuracy: 0.5808\n",
            "Epoch 2/5\n",
            "17/17 [==============================] - 4s 265ms/step - loss: 4.2354 - accuracy: 0.6519\n",
            "Epoch 3/5\n",
            "17/17 [==============================] - 4s 264ms/step - loss: 1.0412 - accuracy: 0.7250\n",
            "Epoch 4/5\n",
            "17/17 [==============================] - 5s 265ms/step - loss: 0.6559 - accuracy: 0.7558\n",
            "Epoch 5/5\n",
            "17/17 [==============================] - 5s 265ms/step - loss: 0.3688 - accuracy: 0.8327\n"
          ]
        }
      ]
    },
    {
      "cell_type": "code",
      "source": [
        "# SAVING MODEL #2 -- VGG16\n",
        "torch.save(model_2, root_path + \"/second_model.pt\")"
      ],
      "metadata": {
        "colab": {
          "base_uri": "https://localhost:8080/"
        },
        "id": "LMKDiK3JSGIT",
        "outputId": "c69ca719-71b9-413d-dfe4-78d80b46f560"
      },
      "execution_count": null,
      "outputs": [
        {
          "output_type": "stream",
          "name": "stdout",
          "text": [
            "INFO:tensorflow:Assets written to: ram://8a3fd673-9da9-40de-87bb-4f8495e4525c/assets\n"
          ]
        }
      ]
    },
    {
      "cell_type": "code",
      "source": [
        "# FIGURES FOR MODEL #2 -- VGG16\n",
        "\n",
        "fig = plt.figure()\n",
        "\n",
        "# add the accuracy data to the plot\n",
        "accuracy = history_2.history['accuracy']\n",
        "plt.plot(accuracy)\n",
        "\n",
        "# arrange the axes and labels \n",
        "plt.title(\"Model 2 Accuracy\")\n",
        "plt.xlabel(\"Epochs\")\n",
        "plt.ylabel(\"Accuracy\")\n",
        "plt.xticks(np.arange(0, 5, 1.0))\n",
        "\n",
        "plt.show()"
      ],
      "metadata": {
        "colab": {
          "base_uri": "https://localhost:8080/",
          "height": 295
        },
        "id": "pigSwFHGSRpz",
        "outputId": "a38f072b-2ce5-4cc9-9755-00e8d0b5654e"
      },
      "execution_count": null,
      "outputs": [
        {
          "output_type": "display_data",
          "data": {
            "text/plain": [
              "<Figure size 432x288 with 1 Axes>"
            ],
            "image/png": "[encoded data removed]"
          },
          "metadata": {
            "needs_background": "light"
          }
        }
      ]
    },
    {
      "cell_type": "code",
      "source": [
        "# SAVE THE MODEL #2 (VGG16) FIGURES\n",
        "fig.savefig('second_model_accuracy.png')"
      ],
      "metadata": {
        "id": "nLBtwzWLSfjd"
      },
      "execution_count": null,
      "outputs": []
    },
    {
      "cell_type": "code",
      "source": [
        "# TESTING MODEL #2 (VGG16)\n",
        "\n",
        "model_2.evaluate(testing_data, testing_labels, batch_size = 32)"
      ],
      "metadata": {
        "colab": {
          "base_uri": "https://localhost:8080/"
        },
        "id": "typrlDgfS141",
        "outputId": "5f1d68ea-0f5e-41cf-a997-1ffab7bbb228"
      },
      "execution_count": null,
      "outputs": [
        {
          "output_type": "stream",
          "name": "stdout",
          "text": [
            "5/5 [==============================] - 2s 233ms/step - loss: 0.9200 - accuracy: 0.7077\n"
          ]
        },
        {
          "output_type": "execute_result",
          "data": {
            "text/plain": [
              "[0.9199853539466858, 0.7076923251152039]"
            ]
          },
          "metadata": {},
          "execution_count": 48
        }
      ]
    },
    {
      "cell_type": "code",
      "source": [
        "# TRAINING MODEL #3 -- MobileNetV2\n",
        "\n",
        "model_mb = tf.keras.applications.MobileNetV2(include_top = False, weights = 'imagenet')"
      ],
      "metadata": {
        "colab": {
          "base_uri": "https://localhost:8080/"
        },
        "id": "fDISi55DfB-H",
        "outputId": "ededa83b-34ef-4ec9-b283-31dbcefacbd9"
      },
      "execution_count": null,
      "outputs": [
        {
          "output_type": "stream",
          "name": "stdout",
          "text": [
            "WARNING:tensorflow:`input_shape` is undefined or non-square, or `rows` is not in [96, 128, 160, 192, 224]. Weights for input shape (224, 224) will be loaded as the default.\n"
          ]
        }
      ]
    },
    {
      "cell_type": "code",
      "source": [
        "# Freezing the convolutional layers\n",
        "model_mb.trainable = False"
      ],
      "metadata": {
        "id": "qmPN9vAggMvF"
      },
      "execution_count": null,
      "outputs": []
    },
    {
      "cell_type": "code",
      "source": [
        "# Obtaining the final prediction from the feature extractions\n",
        "global_average_layer = tf.keras.layers.GlobalAveragePooling2D()\n",
        "classification3 = tf.keras.layers.Dense(2)"
      ],
      "metadata": {
        "id": "IaGxD5TSjXka"
      },
      "execution_count": null,
      "outputs": []
    },
    {
      "cell_type": "code",
      "source": [
        "# Putting everything together and compiling the model\n",
        "model_3 = tf.keras.Sequential([model_mb, global_average_layer, classification3])\n",
        "\n",
        "model_3.compile(optimizer = tf.keras.optimizers.RMSprop(learning_rate = 0.01), loss = tf.keras.losses.BinaryCrossentropy(from_logits=False,), metrics = ['accuracy'])"
      ],
      "metadata": {
        "id": "kWGKzAUxjs0s"
      },
      "execution_count": null,
      "outputs": []
    },
    {
      "cell_type": "code",
      "source": [
        "# Training the model \n",
        "history_3 = model_3.fit(training_data, training_labels, epochs = 5, batch_size = 32, shuffle = True)"
      ],
      "metadata": {
        "colab": {
          "base_uri": "https://localhost:8080/"
        },
        "id": "8I4wP_OkkJIa",
        "outputId": "68c55db7-b7cd-4212-abb4-7cc50cd1f974"
      },
      "execution_count": null,
      "outputs": [
        {
          "output_type": "stream",
          "name": "stdout",
          "text": [
            "Epoch 1/5\n",
            "17/17 [==============================] - 5s 88ms/step - loss: 3.9752 - accuracy: 0.7096\n",
            "Epoch 2/5\n",
            "17/17 [==============================] - 1s 84ms/step - loss: 3.9749 - accuracy: 0.7423\n",
            "Epoch 3/5\n",
            "17/17 [==============================] - 1s 83ms/step - loss: 3.9749 - accuracy: 0.7423\n",
            "Epoch 4/5\n",
            "17/17 [==============================] - 1s 83ms/step - loss: 3.9749 - accuracy: 0.7423\n",
            "Epoch 5/5\n",
            "17/17 [==============================] - 1s 83ms/step - loss: 3.9749 - accuracy: 0.7423\n"
          ]
        }
      ]
    },
    {
      "cell_type": "code",
      "source": [
        "# FIGURES FOR MODEL #3 -- MobileNetV2\n",
        "\n",
        "fig = plt.figure()\n",
        "\n",
        "# add the accuracy data to the plot\n",
        "accuracy = history_3.history['accuracy']\n",
        "plt.plot(accuracy)\n",
        "\n",
        "# arrange the axes and labels \n",
        "plt.title(\"Model 3 Accuracy\")\n",
        "plt.xlabel(\"Epochs\")\n",
        "plt.ylabel(\"Accuracy\")\n",
        "plt.xticks(np.arange(0, 5, 1.0))\n",
        "\n",
        "plt.show()"
      ],
      "metadata": {
        "colab": {
          "base_uri": "https://localhost:8080/",
          "height": 295
        },
        "id": "ds0ExFUsn0S4",
        "outputId": "9566de01-cb4d-440e-f39f-054f870eeb27"
      },
      "execution_count": null,
      "outputs": [
        {
          "output_type": "display_data",
          "data": {
            "text/plain": [
              "<Figure size 432x288 with 1 Axes>"
            ],
            "image/png": "[encoded data removed]"
          },
          "metadata": {
            "needs_background": "light"
          }
        }
      ]
    },
    {
      "cell_type": "code",
      "source": [
        "# SAVING MODEL #3 -- MobileNet\n",
        "torch.save(model_3, root_path + \"/third_model.pt\")"
      ],
      "metadata": {
        "colab": {
          "base_uri": "https://localhost:8080/"
        },
        "id": "B5B8VUFillz8",
        "outputId": "ca2b8bbc-88e7-47cc-ffa9-41e9995d6be1"
      },
      "execution_count": null,
      "outputs": [
        {
          "output_type": "stream",
          "name": "stderr",
          "text": [
            "WARNING:absl:Function `_wrapped_model` contains input name(s) mobilenetv2_1.00_224_input with unsupported characters which will be renamed to mobilenetv2_1_00_224_input in the SavedModel.\n"
          ]
        },
        {
          "output_type": "stream",
          "name": "stdout",
          "text": [
            "INFO:tensorflow:Assets written to: ram://4ae65512-b003-498d-a840-933ce3d24cd5/assets\n"
          ]
        },
        {
          "output_type": "stream",
          "name": "stderr",
          "text": [
            "INFO:tensorflow:Assets written to: ram://4ae65512-b003-498d-a840-933ce3d24cd5/assets\n"
          ]
        }
      ]
    },
    {
      "cell_type": "code",
      "source": [
        "# TESTING MODEL #3 (MobileNetV2)\n",
        "\n",
        "model_3.evaluate(testing_data, testing_labels, batch_size = 32)"
      ],
      "metadata": {
        "colab": {
          "base_uri": "https://localhost:8080/"
        },
        "id": "zOGl8cZqnh0l",
        "outputId": "236a640a-ea02-4169-fdd7-d43772942588"
      },
      "execution_count": null,
      "outputs": [
        {
          "output_type": "stream",
          "name": "stdout",
          "text": [
            "5/5 [==============================] - 2s 159ms/step - loss: 4.0342 - accuracy: 0.7385\n"
          ]
        },
        {
          "output_type": "execute_result",
          "data": {
            "text/plain": [
              "[4.034217357635498, 0.7384615540504456]"
            ]
          },
          "metadata": {},
          "execution_count": 52
        }
      ]
    }
  ]
}